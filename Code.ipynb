{
 "cells": [
  {
   "attachments": {},
   "cell_type": "markdown",
   "metadata": {},
   "source": [
    "# Libraries Used"
   ]
  },
  {
   "cell_type": "code",
   "execution_count": 177,
   "metadata": {},
   "outputs": [],
   "source": [
    "import pandas as pd\n",
    "import re # regular expressions\n",
    "import os\n",
    "import matplotlib.pyplot as plt\n",
    "import numpy as np\n",
    "\n",
    "# Natural Language Toolkit\n",
    "import nltk\n",
    "from nltk.corpus import stopwords # dictionart of Standard english words\n",
    "from nltk.stem import WordNetLemmatizer # lematizes a word based on context\n",
    "\n",
    "# Scikit Learn\n",
    "from sklearn.model_selection import train_test_split\n",
    "from sklearn.feature_extraction.text import CountVectorizer\n",
    "from sklearn.linear_model import LogisticRegression\n",
    "from sklearn import metrics"
   ]
  },
  {
   "attachments": {},
   "cell_type": "markdown",
   "metadata": {},
   "source": [
    "# Data Loading\n",
    "\n",
    "In this section I use the os and pandas libraries to extract the text files and convert them into a dataframe where the first column is the subject of the notebook and the second is all the text from the notebook. I optimised my code to work on the given structure of the text files meaning that I didn't have to move files around to run this. For loading the files simply change the 'dir_fol_path' variable to the directory of the folder. \n",
    "\n",
    "I also used the re (Regular Expressions) library to rename the values of the first column of the created dataframe as this originally consisted of the filenames of the text files"
   ]
  },
  {
   "cell_type": "code",
   "execution_count": 69,
   "metadata": {},
   "outputs": [
    {
     "data": {
      "text/html": [
       "<div>\n",
       "<style scoped>\n",
       "    .dataframe tbody tr th:only-of-type {\n",
       "        vertical-align: middle;\n",
       "    }\n",
       "\n",
       "    .dataframe tbody tr th {\n",
       "        vertical-align: top;\n",
       "    }\n",
       "\n",
       "    .dataframe thead th {\n",
       "        text-align: right;\n",
       "    }\n",
       "</style>\n",
       "<table border=\"1\" class=\"dataframe\">\n",
       "  <thead>\n",
       "    <tr style=\"text-align: right;\">\n",
       "      <th></th>\n",
       "      <th>category</th>\n",
       "      <th>text</th>\n",
       "    </tr>\n",
       "  </thead>\n",
       "  <tbody>\n",
       "    <tr>\n",
       "      <th>0</th>\n",
       "      <td>CS</td>\n",
       "      <td>84 Chapter 2 Instructions: Language of the Com...</td>\n",
       "    </tr>\n",
       "    <tr>\n",
       "      <th>1</th>\n",
       "      <td>CS</td>\n",
       "      <td>2.7 Supporting Procedures In Computer Hardware...</td>\n",
       "    </tr>\n",
       "    <tr>\n",
       "      <th>2</th>\n",
       "      <td>CS</td>\n",
       "      <td>86 Chapter 2 Instructions: Language of the Com...</td>\n",
       "    </tr>\n",
       "    <tr>\n",
       "      <th>3</th>\n",
       "      <td>CS</td>\n",
       "      <td>2.7 Supporting Procedures in Computer Hardware...</td>\n",
       "    </tr>\n",
       "    <tr>\n",
       "      <th>4</th>\n",
       "      <td>CS</td>\n",
       "      <td>88 Chapter 2 Instructions: Language of the Com...</td>\n",
       "    </tr>\n",
       "  </tbody>\n",
       "</table>\n",
       "</div>"
      ],
      "text/plain": [
       "  category                                               text\n",
       "0       CS  84 Chapter 2 Instructions: Language of the Com...\n",
       "1       CS  2.7 Supporting Procedures In Computer Hardware...\n",
       "2       CS  86 Chapter 2 Instructions: Language of the Com...\n",
       "3       CS  2.7 Supporting Procedures in Computer Hardware...\n",
       "4       CS  88 Chapter 2 Instructions: Language of the Com..."
      ]
     },
     "execution_count": 69,
     "metadata": {},
     "output_type": "execute_result"
    }
   ],
   "source": [
    "# set the folder directory path containing text files\n",
    "dir_fol_path = \"C:/Users/PanSt/OneDrive/Υπολογιστής/Adarga/data/\"\n",
    "\n",
    "# set the paths from the folder containing text files\n",
    "dir_subpath = ['Computer_Science/Computer_Science/','Maths/','History/']\n",
    "\n",
    "# initialize empty lists for filenames and text content\n",
    "file_names = []\n",
    "file_contents = []\n",
    "\n",
    "# loop through each folder in direcroty\n",
    "for folder in dir_subpath:\n",
    "    dir_path = dir_fol_path + folder\n",
    "    # loop through each file in directory\n",
    "    for filename in os.listdir(dir_path):\n",
    "        # check if file is a text file\n",
    "        if filename.endswith('.txt'):\n",
    "            # append file name to list\n",
    "            file_names.append(filename)\n",
    "            # read in file contents and append to list\n",
    "            with open(os.path.join(dir_path, filename), 'r', encoding='utf-8') as f:\n",
    "                file_contents.append(f.read())\n",
    "\n",
    "# create Pandas dataframe with two columns: file name and file content\n",
    "df = pd.DataFrame({'category': file_names, 'text': file_contents})\n",
    "\n",
    "# rename the cells in the 'Category' column\n",
    "for i, name in enumerate(df['category']):\n",
    "    # check if the name starts with 'Comp'\n",
    "    if re.match('^Comp', name):\n",
    "        # if it does, rename the cell to 'CS'\n",
    "        df.at[i, 'category'] = 'CS'\n",
    "    # check if the name starts with 'Math'        \n",
    "    if re.match('^Math', name):\n",
    "        # if it does, rename the cell to 'Maths'\n",
    "        df.at[i, 'category'] = 'Maths'\n",
    "    # check if the name starts with 'Hist'        \n",
    "    if re.match('^Hist', name):\n",
    "        # if it does, rename the cell to 'History'\n",
    "        df.at[i, 'category'] = 'History'\n",
    "\n",
    "df.head()"
   ]
  },
  {
   "cell_type": "code",
   "execution_count": 70,
   "metadata": {},
   "outputs": [
    {
     "data": {
      "text/plain": [
       "<AxesSubplot: >"
      ]
     },
     "execution_count": 70,
     "metadata": {},
     "output_type": "execute_result"
    },
    {
     "data": {
      "image/png": "[encoded data removed]",
      "text/plain": [
       "<Figure size 640x480 with 1 Axes>"
      ]
     },
     "metadata": {},
     "output_type": "display_data"
    }
   ],
   "source": [
    "df['category'].value_counts().plot(kind='barh')"
   ]
  },
  {
   "cell_type": "code",
   "execution_count": 71,
   "metadata": {},
   "outputs": [
    {
     "data": {
      "text/plain": [
       "(1356, 2)"
      ]
     },
     "execution_count": 71,
     "metadata": {},
     "output_type": "execute_result"
    }
   ],
   "source": [
    "df.shape"
   ]
  },
  {
   "cell_type": "code",
   "execution_count": 72,
   "metadata": {},
   "outputs": [
    {
     "data": {
      "text/plain": [
       "category    0\n",
       "text        0\n",
       "dtype: int64"
      ]
     },
     "execution_count": 72,
     "metadata": {},
     "output_type": "execute_result"
    }
   ],
   "source": [
    "# check for missing values\n",
    "df.isna().sum()"
   ]
  },
  {
   "attachments": {},
   "cell_type": "markdown",
   "metadata": {},
   "source": [
    "# Preprocessing\n",
    "\n",
    "In this section I use the re library to preprocess and clean the data. The following steps were performed: \n",
    "\n",
    "- Remove all special characters\n",
    "- Lowercase all the words\n",
    "- Tokenize\n",
    "- Remove stopwords\n",
    "- Lemmatize"
   ]
  },
  {
   "cell_type": "code",
   "execution_count": 73,
   "metadata": {},
   "outputs": [
    {
     "data": {
      "text/html": [
       "<div>\n",
       "<style scoped>\n",
       "    .dataframe tbody tr th:only-of-type {\n",
       "        vertical-align: middle;\n",
       "    }\n",
       "\n",
       "    .dataframe tbody tr th {\n",
       "        vertical-align: top;\n",
       "    }\n",
       "\n",
       "    .dataframe thead th {\n",
       "        text-align: right;\n",
       "    }\n",
       "</style>\n",
       "<table border=\"1\" class=\"dataframe\">\n",
       "  <thead>\n",
       "    <tr style=\"text-align: right;\">\n",
       "      <th></th>\n",
       "      <th>category</th>\n",
       "      <th>text</th>\n",
       "    </tr>\n",
       "  </thead>\n",
       "  <tbody>\n",
       "    <tr>\n",
       "      <th>0</th>\n",
       "      <td>CS</td>\n",
       "      <td>chapter instruction language computer paramete...</td>\n",
       "    </tr>\n",
       "    <tr>\n",
       "      <th>1</th>\n",
       "      <td>CS</td>\n",
       "      <td>supporting procedure computer hardware next va...</td>\n",
       "    </tr>\n",
       "    <tr>\n",
       "      <th>2</th>\n",
       "      <td>CS</td>\n",
       "      <td>chapter instruction language computer allocati...</td>\n",
       "    </tr>\n",
       "    <tr>\n",
       "      <th>3</th>\n",
       "      <td>CS</td>\n",
       "      <td>supporting procedure computer hardware allocat...</td>\n",
       "    </tr>\n",
       "    <tr>\n",
       "      <th>4</th>\n",
       "      <td>CS</td>\n",
       "      <td>chapter instruction language computer lead mem...</td>\n",
       "    </tr>\n",
       "  </tbody>\n",
       "</table>\n",
       "</div>"
      ],
      "text/plain": [
       "  category                                               text\n",
       "0       CS  chapter instruction language computer paramete...\n",
       "1       CS  supporting procedure computer hardware next va...\n",
       "2       CS  chapter instruction language computer allocati...\n",
       "3       CS  supporting procedure computer hardware allocat...\n",
       "4       CS  chapter instruction language computer lead mem..."
      ]
     },
     "execution_count": 73,
     "metadata": {},
     "output_type": "execute_result"
    }
   ],
   "source": [
    "#nltk.download('all')\n",
    "\n",
    "# Convert 'text' column of the datafrane to a list\n",
    "text = list(df['text'])\n",
    "lemmatizer = WordNetLemmatizer() # initialise lemmatizer\n",
    "corpus = [] # initialise corpus\n",
    "\n",
    "# for each element in the list\n",
    "for i in range(len(text)):\n",
    "\n",
    "    r = re.sub('[^a-zA-Z]', ' ', text[i]) # remove all characters that are non alphabets\n",
    "    r = r.lower() # lowercase all alphabet words\n",
    "    r = r.split() # split string into individual words\n",
    "    r = [word for word in r if word not in stopwords.words('english')] # Keep only non-standard engligh words\n",
    "    r = [lemmatizer.lemmatize(word) for word in r] # lemmatize the word using the lemmatizer\n",
    "    r = ' '.join(r) # join the lemmatized words back\n",
    "    corpus.append(r) # add the lemmatized words to the ith index in the corpus list\n",
    "\n",
    "# assign corpus list to data['text']\n",
    "df['text'] = corpus\n",
    "\n",
    "df.head()"
   ]
  },
  {
   "attachments": {},
   "cell_type": "markdown",
   "metadata": {},
   "source": [
    "# Model development\n",
    "\n",
    "In this seciton I develop the machine learning model using logistic regression. The count vectorizer uses word-level tokenization and converts keeping unique words and their respective frequency"
   ]
  },
  {
   "cell_type": "code",
   "execution_count": 158,
   "metadata": {},
   "outputs": [],
   "source": [
    "\"\"\"\n",
    "This function develops a machine learning model\n",
    "model: machine learning model used (e.x. LogisticRegression())\n",
    "\"\"\"\n",
    "def model_development(model):\n",
    "    # set features and target variables\n",
    "    X = df['text']\n",
    "    y = df['category']\n",
    "\n",
    "\n",
    "    # train test split (80% train - 20% test)\n",
    "    x_train, x_test, y_train, y_test = train_test_split(X, y, test_size=0.2, random_state=0) #include random state for reproducible results\n",
    "\n",
    "    cv = CountVectorizer() #initialise the vectorizer\n",
    "    X_train_cv = cv.fit_transform(x_train) # vectorize the train x data using the vectorizer \n",
    "    \n",
    "    if model == 'LogisticRegression':\n",
    "        ml_model = LogisticRegression() # initialise the logistic regression model\n",
    "        ml_model.fit(X_train_cv, y_train) # fit the logistic regression model with the vectorized x data and the training target variables (subject)\n",
    "\n",
    "    # transform X_test using CV\n",
    "    X_test_cv = cv.transform(x_test) # vectorize the test x data using the vectorizer\n",
    "\n",
    "    # generate predictions\n",
    "    predictions = ml_model.predict(X_test_cv) # make predicitons on the test data\n",
    "    return (predictions, y_test)"
   ]
  },
  {
   "attachments": {},
   "cell_type": "markdown",
   "metadata": {},
   "source": [
    "# Evaluation"
   ]
  },
  {
   "cell_type": "code",
   "execution_count": 179,
   "metadata": {},
   "outputs": [],
   "source": [
    "\"\"\"\n",
    "This function plots a confusion matrix using a colormap\n",
    "cm: Confusion matrix data\n",
    "classes: List of class names\n",
    "\"\"\"\n",
    "\n",
    "def plot_confusion_matrix(cm, classes):\n",
    "\n",
    "    cmap=plt.cm.Blues\n",
    "    # create figure and axes\n",
    "    fig, ax = plt.subplots()\n",
    "    # normalize confusion matrix\n",
    "    cm_normalized = cm.astype('float') / cm.sum(axis=1)[:, np.newaxis]\n",
    "    # plot confusion matrix\n",
    "    im = ax.imshow(cm_normalized, interpolation='nearest', cmap=cmap)\n",
    "\n",
    "    # add colorbar\n",
    "    fig.colorbar(im)\n",
    "\n",
    "    # set labels\n",
    "    ax.set_xticks(np.arange(len(classes)))\n",
    "    ax.set_yticks(np.arange(len(classes)))\n",
    "    ax.set_xticklabels(classes)\n",
    "    ax.set_yticklabels(classes)\n",
    "\n",
    "    # rotate x-axis labels\n",
    "    plt.setp(ax.get_xticklabels(), rotation=45, ha=\"right\", rotation_mode=\"anchor\")\n",
    "\n",
    "    # loop over data dimensions and create text annotations.\n",
    "    for i in range(len(classes)):\n",
    "        for j in range(len(classes)):\n",
    "            text = ax.text(j, i, \"{:.2f}\".format(cm_normalized[i, j]),\n",
    "                           ha=\"center\", va=\"center\", color=\"black\")\n",
    "\n",
    "    # set title\n",
    "    ax.set_title(\"Confusion Matrix\")\n",
    "\n",
    "    # set axis labels\n",
    "    ax.set_xlabel(\"Predicted label\")\n",
    "    ax.set_ylabel(\"True label\")\n",
    "\n",
    "    # set figure layout\n",
    "    fig.tight_layout()\n",
    "\n",
    "    # show plot\n",
    "    plt.show()"
   ]
  },
  {
   "cell_type": "code",
   "execution_count": 182,
   "metadata": {},
   "outputs": [],
   "source": [
    "\"\"\"\n",
    "This function evaluates the machine learning model developed\n",
    "predictions: expected y values\n",
    "y_test: actual y values\n",
    "\"\"\"\n",
    "\n",
    "def model_evaluation(predictions, y_test):\n",
    "    # confusion matrix\n",
    "    cm_exp = pd.DataFrame(metrics.confusion_matrix(y_test,predictions), index=['CS','Maths','History'], columns=['CS','Maths','History'])\n",
    "    cm_obs = pd.DataFrame(metrics.confusion_matrix(y_test,y_test), index=['CS','Maths','History'], columns=['CS','Maths','History'])\n",
    "    acc_score = round(metrics.accuracy_score(y_test,predictions),4)\n",
    "    chi_sq = round((((cm_obs-cm_exp)**2)/cm_exp).sum().sum(),4)\n",
    "    plot_confusion_matrix(np.array(cm_exp),['CS','Maths','History'])\n",
    "    print('chi square = {}, accuracy score = {}'.format(chi_sq, acc_score))"
   ]
  },
  {
   "attachments": {},
   "cell_type": "markdown",
   "metadata": {},
   "source": [
    "# Model development and evaluation"
   ]
  },
  {
   "cell_type": "code",
   "execution_count": 184,
   "metadata": {},
   "outputs": [
    {
     "data": {
      "image/png": "[encoded data removed]",
      "text/plain": [
       "<Figure size 640x480 with 2 Axes>"
      ]
     },
     "metadata": {},
     "output_type": "display_data"
    },
    {
     "name": "stdout",
     "output_type": "stream",
     "text": [
      "chi square = 1.0073, accuracy score = 0.9963\n"
     ]
    }
   ],
   "source": [
    "predictions, y_test = model_development('LogisticRegression')\n",
    "model_evaluation(predictions, y_test)"
   ]
  },
  {
   "attachments": {},
   "cell_type": "markdown",
   "metadata": {},
   "source": [
    "# Improvements\n",
    "\n",
    "The model used is very accurate and thats is not a case of overfitting. To better test the model, a larger dataset could be used, or alter the train_test_split funciton (although that will compromise the training of the model). Other classification models could be developed and compared with logistic regresison such as the SVM and KNN (k=3) models. In the preprocessing stage of the model, I ommitted all characters that are not letters (a-zA-Z). Keeping certain symbols such as +, -, *, /, etc. could improve the accuracy of the model espcially when it comes to accurately predicting mathematics notebooks.\n",
    "\n"
   ]
  }
 ],
 "metadata": {
  "kernelspec": {
   "display_name": "Python 3",
   "language": "python",
   "name": "python3"
  },
  "language_info": {
   "codemirror_mode": {
    "name": "ipython",
    "version": 3
   },
   "file_extension": ".py",
   "mimetype": "text/x-python",
   "name": "python",
   "nbconvert_exporter": "python",
   "pygments_lexer": "ipython3",
   "version": "3.10.10"
  },
  "orig_nbformat": 4
 },
 "nbformat": 4,
 "nbformat_minor": 2
}
